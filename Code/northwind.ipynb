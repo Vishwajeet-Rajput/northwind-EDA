{
 "cells": [
  {
   "cell_type": "markdown",
   "metadata": {},
   "source": [
    "## Northwind Traders"
   ]
  },
  {
   "cell_type": "markdown",
   "metadata": {},
   "source": [
    "<h3> Recommended Analysis <h3>"
   ]
  },
  {
   "cell_type": "markdown",
   "metadata": {},
   "source": [
    "1.Are there any noticable sales trends over time?\n",
    "\n",
    "2.Which are the best and worst selling products?\n",
    "\n",
    "3.Can you identify any key customers?\n",
    "\n",
    "4.Are shipping costs consistent across providers?"
   ]
  },
  {
   "cell_type": "code",
   "execution_count": 54,
   "metadata": {},
   "outputs": [],
   "source": [
    "import pandas as pd\n",
    "import matplotlib.pyplot as plt\n",
    "import seaborn as sns\n",
    "import glob\n",
    "import os\n",
    "import datetime\n",
    "import warnings \n",
    "warnings.filterwarnings(\"ignore\")"
   ]
  },
  {
   "cell_type": "markdown",
   "metadata": {},
   "source": [
    "#### File Path"
   ]
  },
  {
   "cell_type": "code",
   "execution_count": 55,
   "metadata": {},
   "outputs": [],
   "source": [
    "categories_path = r'C:\\Users\\Admin\\My Project\\Northwind\\Dataset\\categories.csv'\n",
    "customers_path = r'C:\\Users\\Admin\\My Project\\Northwind\\Dataset\\customers.csv'\n",
    "employees_path = r'C:\\Users\\Admin\\My Project\\Northwind\\Dataset\\employees.csv'\n",
    "order_details_path = r'C:\\Users\\Admin\\My Project\\Northwind\\Dataset\\order_details.csv'\n",
    "orders_path = r'C:\\Users\\Admin\\My Project\\Northwind\\Dataset\\orders.csv'\n",
    "products_path = r'C:\\Users\\Admin\\My Project\\Northwind\\Dataset\\products.csv'\n",
    "shippers_path = r'C:\\Users\\Admin\\My Project\\Northwind\\Dataset\\shippers.csv'"
   ]
  },
  {
   "cell_type": "markdown",
   "metadata": {},
   "source": [
    "#### Load Data"
   ]
  },
  {
   "cell_type": "code",
   "execution_count": 56,
   "metadata": {},
   "outputs": [],
   "source": [
    "categories = pd.read_csv(categories_path)\n",
    "customers = pd.read_csv(customers_path, encoding='ANSI')\n",
    "employees = pd.read_csv(employees_path)\n",
    "order_details = pd.read_csv(order_details_path)\n",
    "orders = pd.read_csv(orders_path)\n",
    "products = pd.read_csv(products_path, encoding='ANSI')\n",
    "shippers = pd.read_csv(shippers_path)"
   ]
  },
  {
   "cell_type": "code",
   "execution_count": 57,
   "metadata": {},
   "outputs": [
    {
     "name": "stdout",
     "output_type": "stream",
     "text": [
      "order_details:-  Index(['orderID', 'productID', 'unitPrice', 'quantity', 'discount'], dtype='object')\n",
      "\n",
      "orders:-  Index(['orderID', 'customerID', 'employeeID', 'orderDate', 'requiredDate',\n",
      "       'shippedDate', 'shipperID', 'freight'],\n",
      "      dtype='object')\n",
      "\n",
      "categories:-  Index(['categoryID', 'categoryName', 'description'], dtype='object')\n",
      "\n",
      "customers:-  Index(['customerID', 'companyName', 'contactName', 'contactTitle', 'city',\n",
      "       'country'],\n",
      "      dtype='object')\n",
      "\n",
      "employees:-  Index(['employeeID', 'employeeName', 'title', 'city', 'country', 'reportsTo'], dtype='object')\n",
      "\n",
      "products:-  Index(['productID', 'productName', 'quantityPerUnit', 'unitPrice',\n",
      "       'discontinued', 'categoryID'],\n",
      "      dtype='object')\n",
      "\n",
      "shippers:-  Index(['shipperID', 'companyName'], dtype='object')\n"
     ]
    }
   ],
   "source": [
    "print('order_details:- ',order_details.columns)\n",
    "print(\"\")\n",
    "print('orders:- ',orders.columns)\n",
    "print(\"\")\n",
    "print('categories:- ',categories.columns)\n",
    "print(\"\")\n",
    "print('customers:- ',customers.columns)\n",
    "print(\"\")\n",
    "print('employees:- ',employees.columns)\n",
    "print(\"\")\n",
    "print('products:- ',products.columns)\n",
    "print(\"\")\n",
    "print('shippers:- ',shippers.columns)\n"
   ]
  },
  {
   "cell_type": "markdown",
   "metadata": {},
   "source": [
    "#### Merge Tables"
   ]
  },
  {
   "cell_type": "code",
   "execution_count": 58,
   "metadata": {},
   "outputs": [],
   "source": [
    "## merge order_details and orders\n",
    "orders.duplicated(subset='orderID').sum()\n",
    "chunk_1 = pd.merge(order_details, orders, how='left',on='orderID')\n",
    "\n",
    "## Merge chunk_1 and products\n",
    "chunk_2 = pd.merge(chunk_1, products, how='left', on='productID')\n",
    "\n",
    "## merge chunk_2 and categories\n",
    "chunk_3 = pd.merge(chunk_2, categories, how='left', on='categoryID')\n",
    "\n",
    "## merge chunk_3 and customers\n",
    "chunk_4 = pd.merge(chunk_3, customers, how='left',on='customerID')\n",
    "\n",
    "## merge chunk_4 and employees\n",
    "chunk_5 = pd.merge(chunk_4, employees, how='left', on='employeeID')\n",
    "\n",
    "## merge chunk_5 and shippers\n",
    "chunk_6 = pd.merge(chunk_5, shippers, how='left', on='shipperID')"
   ]
  },
  {
   "cell_type": "markdown",
   "metadata": {},
   "source": [
    "#### Data Cleaning"
   ]
  },
  {
   "cell_type": "code",
   "execution_count": 59,
   "metadata": {},
   "outputs": [
    {
     "data": {
      "text/html": [
       "<div>\n",
       "<style scoped>\n",
       "    .dataframe tbody tr th:only-of-type {\n",
       "        vertical-align: middle;\n",
       "    }\n",
       "\n",
       "    .dataframe tbody tr th {\n",
       "        vertical-align: top;\n",
       "    }\n",
       "\n",
       "    .dataframe thead th {\n",
       "        text-align: right;\n",
       "    }\n",
       "</style>\n",
       "<table border=\"1\" class=\"dataframe\">\n",
       "  <thead>\n",
       "    <tr style=\"text-align: right;\">\n",
       "      <th></th>\n",
       "      <th>orderID</th>\n",
       "      <th>productID</th>\n",
       "      <th>unitPrice_x</th>\n",
       "      <th>quantity</th>\n",
       "      <th>discount</th>\n",
       "      <th>customerID</th>\n",
       "      <th>employeeID</th>\n",
       "      <th>orderDate</th>\n",
       "      <th>requiredDate</th>\n",
       "      <th>shippedDate</th>\n",
       "      <th>...</th>\n",
       "      <th>companyName</th>\n",
       "      <th>contactName</th>\n",
       "      <th>contactTitle</th>\n",
       "      <th>city_x</th>\n",
       "      <th>country_x</th>\n",
       "      <th>employeeName</th>\n",
       "      <th>title</th>\n",
       "      <th>city_y</th>\n",
       "      <th>country_y</th>\n",
       "      <th>reportsTo</th>\n",
       "    </tr>\n",
       "  </thead>\n",
       "  <tbody>\n",
       "    <tr>\n",
       "      <th>0</th>\n",
       "      <td>10248</td>\n",
       "      <td>11</td>\n",
       "      <td>14.0</td>\n",
       "      <td>12</td>\n",
       "      <td>0.0</td>\n",
       "      <td>VINET</td>\n",
       "      <td>5</td>\n",
       "      <td>2013-07-04</td>\n",
       "      <td>2013-08-01</td>\n",
       "      <td>2013-07-16</td>\n",
       "      <td>...</td>\n",
       "      <td>Vins et alcools Chevalier</td>\n",
       "      <td>Paul Henriot</td>\n",
       "      <td>Accounting Manager</td>\n",
       "      <td>Reims</td>\n",
       "      <td>France</td>\n",
       "      <td>Steven Buchanan</td>\n",
       "      <td>Sales Manager</td>\n",
       "      <td>London</td>\n",
       "      <td>UK</td>\n",
       "      <td>2.0</td>\n",
       "    </tr>\n",
       "    <tr>\n",
       "      <th>1</th>\n",
       "      <td>10248</td>\n",
       "      <td>42</td>\n",
       "      <td>9.8</td>\n",
       "      <td>10</td>\n",
       "      <td>0.0</td>\n",
       "      <td>VINET</td>\n",
       "      <td>5</td>\n",
       "      <td>2013-07-04</td>\n",
       "      <td>2013-08-01</td>\n",
       "      <td>2013-07-16</td>\n",
       "      <td>...</td>\n",
       "      <td>Vins et alcools Chevalier</td>\n",
       "      <td>Paul Henriot</td>\n",
       "      <td>Accounting Manager</td>\n",
       "      <td>Reims</td>\n",
       "      <td>France</td>\n",
       "      <td>Steven Buchanan</td>\n",
       "      <td>Sales Manager</td>\n",
       "      <td>London</td>\n",
       "      <td>UK</td>\n",
       "      <td>2.0</td>\n",
       "    </tr>\n",
       "    <tr>\n",
       "      <th>2</th>\n",
       "      <td>10248</td>\n",
       "      <td>72</td>\n",
       "      <td>34.8</td>\n",
       "      <td>5</td>\n",
       "      <td>0.0</td>\n",
       "      <td>VINET</td>\n",
       "      <td>5</td>\n",
       "      <td>2013-07-04</td>\n",
       "      <td>2013-08-01</td>\n",
       "      <td>2013-07-16</td>\n",
       "      <td>...</td>\n",
       "      <td>Vins et alcools Chevalier</td>\n",
       "      <td>Paul Henriot</td>\n",
       "      <td>Accounting Manager</td>\n",
       "      <td>Reims</td>\n",
       "      <td>France</td>\n",
       "      <td>Steven Buchanan</td>\n",
       "      <td>Sales Manager</td>\n",
       "      <td>London</td>\n",
       "      <td>UK</td>\n",
       "      <td>2.0</td>\n",
       "    </tr>\n",
       "    <tr>\n",
       "      <th>3</th>\n",
       "      <td>10249</td>\n",
       "      <td>14</td>\n",
       "      <td>18.6</td>\n",
       "      <td>9</td>\n",
       "      <td>0.0</td>\n",
       "      <td>TOMSP</td>\n",
       "      <td>6</td>\n",
       "      <td>2013-07-05</td>\n",
       "      <td>2013-08-16</td>\n",
       "      <td>2013-07-10</td>\n",
       "      <td>...</td>\n",
       "      <td>Toms Spezialitäten</td>\n",
       "      <td>Karin Josephs</td>\n",
       "      <td>Marketing Manager</td>\n",
       "      <td>Münster</td>\n",
       "      <td>Germany</td>\n",
       "      <td>Michael Suyama</td>\n",
       "      <td>Sales Representative</td>\n",
       "      <td>London</td>\n",
       "      <td>UK</td>\n",
       "      <td>5.0</td>\n",
       "    </tr>\n",
       "    <tr>\n",
       "      <th>4</th>\n",
       "      <td>10249</td>\n",
       "      <td>51</td>\n",
       "      <td>42.4</td>\n",
       "      <td>40</td>\n",
       "      <td>0.0</td>\n",
       "      <td>TOMSP</td>\n",
       "      <td>6</td>\n",
       "      <td>2013-07-05</td>\n",
       "      <td>2013-08-16</td>\n",
       "      <td>2013-07-10</td>\n",
       "      <td>...</td>\n",
       "      <td>Toms Spezialitäten</td>\n",
       "      <td>Karin Josephs</td>\n",
       "      <td>Marketing Manager</td>\n",
       "      <td>Münster</td>\n",
       "      <td>Germany</td>\n",
       "      <td>Michael Suyama</td>\n",
       "      <td>Sales Representative</td>\n",
       "      <td>London</td>\n",
       "      <td>UK</td>\n",
       "      <td>5.0</td>\n",
       "    </tr>\n",
       "  </tbody>\n",
       "</table>\n",
       "<p>5 rows × 29 columns</p>\n",
       "</div>"
      ],
      "text/plain": [
       "   orderID  productID  unitPrice_x  quantity  discount customerID  employeeID  \\\n",
       "0    10248         11         14.0        12       0.0      VINET           5   \n",
       "1    10248         42          9.8        10       0.0      VINET           5   \n",
       "2    10248         72         34.8         5       0.0      VINET           5   \n",
       "3    10249         14         18.6         9       0.0      TOMSP           6   \n",
       "4    10249         51         42.4        40       0.0      TOMSP           6   \n",
       "\n",
       "    orderDate requiredDate shippedDate  ...                companyName  \\\n",
       "0  2013-07-04   2013-08-01  2013-07-16  ...  Vins et alcools Chevalier   \n",
       "1  2013-07-04   2013-08-01  2013-07-16  ...  Vins et alcools Chevalier   \n",
       "2  2013-07-04   2013-08-01  2013-07-16  ...  Vins et alcools Chevalier   \n",
       "3  2013-07-05   2013-08-16  2013-07-10  ...         Toms Spezialitäten   \n",
       "4  2013-07-05   2013-08-16  2013-07-10  ...         Toms Spezialitäten   \n",
       "\n",
       "     contactName        contactTitle   city_x  country_x     employeeName  \\\n",
       "0   Paul Henriot  Accounting Manager    Reims     France  Steven Buchanan   \n",
       "1   Paul Henriot  Accounting Manager    Reims     France  Steven Buchanan   \n",
       "2   Paul Henriot  Accounting Manager    Reims     France  Steven Buchanan   \n",
       "3  Karin Josephs   Marketing Manager  Münster    Germany   Michael Suyama   \n",
       "4  Karin Josephs   Marketing Manager  Münster    Germany   Michael Suyama   \n",
       "\n",
       "                  title  city_y country_y reportsTo  \n",
       "0         Sales Manager  London        UK       2.0  \n",
       "1         Sales Manager  London        UK       2.0  \n",
       "2         Sales Manager  London        UK       2.0  \n",
       "3  Sales Representative  London        UK       5.0  \n",
       "4  Sales Representative  London        UK       5.0  \n",
       "\n",
       "[5 rows x 29 columns]"
      ]
     },
     "execution_count": 59,
     "metadata": {},
     "output_type": "execute_result"
    }
   ],
   "source": [
    "chunk_5.head(5)"
   ]
  },
  {
   "cell_type": "code",
   "execution_count": 60,
   "metadata": {},
   "outputs": [
    {
     "data": {
      "text/plain": [
       "Index(['orderID', 'productID', 'unitPrice_x', 'quantity', 'discount',\n",
       "       'customerID', 'employeeID', 'orderDate', 'requiredDate', 'shippedDate',\n",
       "       'shipperID', 'freight', 'productName', 'quantityPerUnit', 'unitPrice_y',\n",
       "       'discontinued', 'categoryID', 'categoryName', 'description',\n",
       "       'companyName', 'contactName', 'contactTitle', 'city_x', 'country_x',\n",
       "       'employeeName', 'title', 'city_y', 'country_y', 'reportsTo'],\n",
       "      dtype='object')"
      ]
     },
     "execution_count": 60,
     "metadata": {},
     "output_type": "execute_result"
    }
   ],
   "source": [
    "chunk_5.columns"
   ]
  },
  {
   "cell_type": "code",
   "execution_count": 69,
   "metadata": {},
   "outputs": [],
   "source": [
    "final_chunk = chunk_5[['orderDate', 'requiredDate', 'shippedDate', 'productName', 'discontinued','categoryName', 'description',\n",
    "       'companyName', 'contactName', 'contactTitle', 'city_x', 'country_x', 'employeeName', 'title', 'city_y', \n",
    "       'country_y', 'reportsTo','quantityPerUnit', 'quantity', 'discount', 'freight', 'unitPrice_y']]"
   ]
  },
  {
   "cell_type": "code",
   "execution_count": 71,
   "metadata": {},
   "outputs": [],
   "source": [
    "final_chunk.rename(columns={'city_x':'cus_city', 'country_x':'cus_country','city_y':'emp_city',\n",
    "                             'country_y':'emp_country', 'unitPrice_y':'unitPrice' },inplace=True)"
   ]
  },
  {
   "cell_type": "code",
   "execution_count": 63,
   "metadata": {},
   "outputs": [
    {
     "data": {
      "text/plain": [
       "Index(['orderDate', 'requiredDate', 'shippedDate', 'productName',\n",
       "       'discontinued', 'categoryName', 'description', 'companyName',\n",
       "       'contactName', 'contactTitle', 'cus_city', 'cus_country',\n",
       "       'employeeName', 'title', 'emp_city', 'emp_country', 'reportsTo',\n",
       "       'quantity', 'discount', 'freight', 'quantityPerUnit', 'unitPrice_y'],\n",
       "      dtype='object')"
      ]
     },
     "execution_count": 63,
     "metadata": {},
     "output_type": "execute_result"
    }
   ],
   "source": [
    "final_chunk.columns"
   ]
  },
  {
   "cell_type": "code",
   "execution_count": 64,
   "metadata": {},
   "outputs": [
    {
     "name": "stdout",
     "output_type": "stream",
     "text": [
      "<class 'pandas.core.frame.DataFrame'>\n",
      "RangeIndex: 2155 entries, 0 to 2154\n",
      "Data columns (total 22 columns):\n",
      " #   Column           Non-Null Count  Dtype  \n",
      "---  ------           --------------  -----  \n",
      " 0   orderDate        2155 non-null   object \n",
      " 1   requiredDate     2155 non-null   object \n",
      " 2   shippedDate      2082 non-null   object \n",
      " 3   productName      2155 non-null   object \n",
      " 4   discontinued     2155 non-null   int64  \n",
      " 5   categoryName     2155 non-null   object \n",
      " 6   description      2155 non-null   object \n",
      " 7   companyName      2155 non-null   object \n",
      " 8   contactName      2155 non-null   object \n",
      " 9   contactTitle     2155 non-null   object \n",
      " 10  cus_city         2155 non-null   object \n",
      " 11  cus_country      2155 non-null   object \n",
      " 12  employeeName     2155 non-null   object \n",
      " 13  title            2155 non-null   object \n",
      " 14  emp_city         2155 non-null   object \n",
      " 15  emp_country      2155 non-null   object \n",
      " 16  reportsTo        1914 non-null   float64\n",
      " 17  quantity         2155 non-null   int64  \n",
      " 18  discount         2155 non-null   float64\n",
      " 19  freight          2155 non-null   float64\n",
      " 20  quantityPerUnit  2155 non-null   object \n",
      " 21  unitPrice_y      2155 non-null   float64\n",
      "dtypes: float64(4), int64(2), object(16)\n",
      "memory usage: 370.5+ KB\n"
     ]
    }
   ],
   "source": [
    "\n",
    "final_chunk.info()"
   ]
  },
  {
   "cell_type": "code",
   "execution_count": 65,
   "metadata": {},
   "outputs": [],
   "source": [
    "final_chunk['orderDate'] = pd.to_datetime(final_chunk['orderDate'], format='%Y-%m-%d')\n",
    "final_chunk['requiredDate'] = pd.to_datetime(final_chunk['requiredDate'], format='%Y-%m-%d')\n",
    "final_chunk['shippedDate'] = pd.to_datetime(final_chunk['shippedDate'], format='%Y-%m-%d')"
   ]
  },
  {
   "cell_type": "markdown",
   "metadata": {},
   "source": [
    "#### Now Perform Analysis"
   ]
  },
  {
   "cell_type": "markdown",
   "metadata": {},
   "source": [
    "🔹 EDA\n",
    "\n",
    "1. Aggregations & Sales Analysis  \n",
    "-----------------------------------------------------  \n",
    "- How do you calculate the total revenue generated from all orders, considering discounts?  \n",
    "- Find the top 3 most frequently purchased products based on order quantity.  \n",
    "- Write a query to find the highest revenue-generating product category.  \n",
    "- How would you calculate the average order value per customer?  \n",
    "- Retrieve the top 5 customers who have spent the most money, along with their total spending.  \n",
    "\n",
    "2. Customer & Employee Insights  \n",
    "-----------------------------------------------------  \n",
    "- Identify customers who have not placed an order in the last 6 months.  \n",
    "- Find employees who have handled more than 100 orders.  \n",
    "- Retrieve the total sales made by each employee along with their name.  \n",
    "- How would you find the customer with the highest single order value?  \n",
    "- Find the most common customer location (city and country) where orders are placed.  \n",
    "\n",
    "3. Product & Inventory Analysis  \n",
    "-----------------------------------------------------  \n",
    "- Identify products that were ordered but are now discontinued.  \n",
    "- How would you calculate the average selling price of each product?  \n",
    "- Retrieve a list of products that have never been ordered.  \n",
    "- Find the top 3 slowest-selling products in the last 12 months.  \n",
    "- Calculate the average number of products per order.  \n"
   ]
  },
  {
   "cell_type": "code",
   "execution_count": 97,
   "metadata": {},
   "outputs": [
    {
     "name": "stdout",
     "output_type": "stream",
     "text": [
      "Total Revanue :-  1.45 M\n"
     ]
    }
   ],
   "source": [
    "## How do you calculate the total revenue generated from all orders, considering discounts?\n",
    "\n",
    "final_chunk['Revenue'] = final_chunk.eval(\"(unitPrice * quantity * (1-discount/100))/1e6\")\n",
    "print(\"Total Revanue :- \",round(final_chunk['Revenue'].sum(),2),\"M\")"
   ]
  },
  {
   "cell_type": "code",
   "execution_count": null,
   "metadata": {},
   "outputs": [],
   "source": []
  }
 ],
 "metadata": {
  "kernelspec": {
   "display_name": "Python 3",
   "language": "python",
   "name": "python3"
  },
  "language_info": {
   "codemirror_mode": {
    "name": "ipython",
    "version": 3
   },
   "file_extension": ".py",
   "mimetype": "text/x-python",
   "name": "python",
   "nbconvert_exporter": "python",
   "pygments_lexer": "ipython3",
   "version": "3.13.0"
  }
 },
 "nbformat": 4,
 "nbformat_minor": 2
}
